{
 "cells": [
  {
   "cell_type": "markdown",
   "metadata": {},
   "source": [
    "*Ising Model Approach*"
   ]
  },
  {
   "cell_type": "code",
   "execution_count": 13,
   "metadata": {},
   "outputs": [],
   "source": [
    "import numpy as np\n",
    "import torch\n",
    "from collections import Counter\n",
    "collect_states_ising = Counter()\n"
   ]
  },
  {
   "attachments": {},
   "cell_type": "markdown",
   "metadata": {},
   "source": [
    "Matrix of weights and vector of biases."
   ]
  },
  {
   "cell_type": "code",
   "execution_count": 14,
   "metadata": {},
   "outputs": [],
   "source": [
    "matrix = [\n",
    "    [0, -1, 2],\n",
    "    [-1, 0, 2],\n",
    "    [2, 2, 0]\n",
    "]\n",
    "\n",
    "weights = torch.tensor(matrix, dtype=torch.float32)\n",
    "bias = torch.tensor([1, 1, -2], dtype=torch.float32)"
   ]
  },
  {
   "cell_type": "code",
   "execution_count": 15,
   "metadata": {},
   "outputs": [],
   "source": [
    "\n",
    "def from_torch_to_numpy(tensor: torch.Tensor):\n",
    "    return tensor.detach().cpu().numpy()"
   ]
  },
  {
   "attachments": {},
   "cell_type": "markdown",
   "metadata": {},
   "source": [
    "Implementation of the energy formula using numpy library.   "
   ]
  },
  {
   "cell_type": "code",
   "execution_count": 16,
   "metadata": {},
   "outputs": [],
   "source": [
    "def energy_function(p_bits: torch.Tensor, weights: torch.Tensor, bias: torch.Tensor):\n",
    "    return -np.sum(np.multiply(from_torch_to_numpy(weights), from_torch_to_numpy(torch.outer(p_bits, p_bits)))) - torch.dot(p_bits, bias)"
   ]
  },
  {
   "cell_type": "code",
   "execution_count": 17,
   "metadata": {},
   "outputs": [],
   "source": [
    "def activation_function(syn_input: torch.Tensor, beta: float):\n",
    "    return torch.sign(torch.tanh(beta * (-syn_input)) - (torch.rand(1) * 2 - 1))"
   ]
  },
  {
   "cell_type": "code",
   "execution_count": 19,
   "metadata": {},
   "outputs": [],
   "source": [
    "def calculate_gradient(p_bits: torch.Tensor, weights: torch.Tensor, bias: torch.Tensor):\n",
    "    energy = energy_function(p_bits, weights, bias)\n",
    "    energy.backward(torch.ones(energy.shape))\n",
    "    p_bits.retain_grad()\n",
    "    return p_bits.grad"
   ]
  },
  {
   "cell_type": "code",
   "execution_count": 20,
   "metadata": {},
   "outputs": [],
   "source": [
    "def evaluate(initial_beta, weights: torch.Tensor, bias: torch.Tensor, n: int):\n",
    "    p_bits = torch.ones(n, requires_grad=True)\n",
    "    prev_energy = energy_function(p_bits, weights, bias)\n",
    "    beta = initial_beta\n",
    "    ans = torch.ones(n, requires_grad=True)        \n",
    "    for i in range(1000):\n",
    "        indices = torch.randperm(n - 1) # n-th output is clamped\n",
    "        for index, value in enumerate(indices):\n",
    "            new_beta = beta + 0.1\n",
    "            iteration = n * i + index\n",
    "            new_p_bits = p_bits \n",
    "            gradient = calculate_gradient(new_p_bits, weights, bias)\n",
    "            syn_input = gradient[value]\n",
    "            with torch.no_grad():\n",
    "                new_p_bits[value] = activation_function(syn_input, new_beta)\n",
    "            new_energy = energy_function(new_p_bits, weights, bias)\n",
    "            \n",
    "            if new_energy < prev_energy: \n",
    "                beta = new_beta\n",
    "                prev_energy = new_energy\n",
    "                ans = new_p_bits.clone()\n",
    "            p_bits = new_p_bits\n",
    "    print(ans.tolist())"
   ]
  },
  {
   "cell_type": "code",
   "execution_count": 21,
   "metadata": {},
   "outputs": [
    {
     "name": "stdout",
     "output_type": "stream",
     "text": [
      "[1.0, 1.0, 1.0]\n"
     ]
    }
   ],
   "source": [
    "seed = 42\n",
    "torch.manual_seed(seed)\n",
    "n = 3\n",
    "\n",
    "evaluate(initial_beta=0.25, weights=weights, bias=bias, n=n)"
   ]
  },
  {
   "cell_type": "code",
   "execution_count": 22,
   "metadata": {},
   "outputs": [
    {
     "data": {
      "image/png": "[encoded data removed]",
      "text/plain": [
       "<Figure size 480x480 with 2 Axes>"
      ]
     },
     "metadata": {},
     "output_type": "display_data"
    }
   ],
   "source": [
    "import matplotlib.pyplot as plt\n",
    "import numpy as np\n",
    "\n",
    "cmap = plt.get_cmap('RdBu', np.max(matrix) - np.min(matrix) + 1)\n",
    "mat = plt.matshow(matrix, cmap=cmap, vmin=np.min(matrix) - 0.5, vmax=np.max(matrix) + 0.5)\n",
    "cax = plt.colorbar(mat, ticks=np.arange(np.min(matrix), np.max(matrix) + 1))"
   ]
  }
 ],
 "metadata": {
  "kernelspec": {
   "display_name": "Python 3",
   "language": "python",
   "name": "python3"
  },
  "language_info": {
   "codemirror_mode": {
    "name": "ipython",
    "version": 3
   },
   "file_extension": ".py",
   "mimetype": "text/x-python",
   "name": "python",
   "nbconvert_exporter": "python",
   "pygments_lexer": "ipython3",
   "version": "3.8.10"
  },
  "orig_nbformat": 4
 },
 "nbformat": 4,
 "nbformat_minor": 2
}
