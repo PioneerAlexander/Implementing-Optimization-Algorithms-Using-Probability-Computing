{
 "cells": [
  {
   "attachments": {},
   "cell_type": "markdown",
   "metadata": {},
   "source": [
    "*Ising Model Approach*"
   ]
  },
  {
   "cell_type": "code",
   "execution_count": 70,
   "metadata": {},
   "outputs": [],
   "source": [
    "import numpy as np\n",
    "import torch\n",
    "import pyro\n",
    "import pyro.distributions as dist\n",
    "from collections import Counter\n",
    "collect_states_ising = Counter()\n"
   ]
  },
  {
   "attachments": {},
   "cell_type": "markdown",
   "metadata": {},
   "source": [
    "Matrix of weights and vector of biases."
   ]
  },
  {
   "cell_type": "code",
   "execution_count": 30,
   "metadata": {},
   "outputs": [],
   "source": [
    "matrix = [\n",
    "    [0, -1, 2],\n",
    "    [-1, 0, 2],\n",
    "    [2, 2, 0]\n",
    "]\n",
    "\n",
    "weights = torch.tensor(matrix, dtype=torch.float32)\n",
    "bias = torch.tensor([1, 1, -2], dtype=torch.float32)"
   ]
  },
  {
   "cell_type": "code",
   "execution_count": 32,
   "metadata": {},
   "outputs": [],
   "source": [
    "\n",
    "def from_torch_to_numpy(tensor: torch.Tensor):\n",
    "    return tensor.detach().cpu().numpy()"
   ]
  },
  {
   "attachments": {},
   "cell_type": "markdown",
   "metadata": {},
   "source": [
    "Implementation of the energy formula using numpy library.   "
   ]
  },
  {
   "cell_type": "code",
   "execution_count": 33,
   "metadata": {},
   "outputs": [],
   "source": [
    "def energy_function(p_bits: torch.Tensor, weights: torch.Tensor, bias: torch.Tensor):\n",
    "    return -np.sum(np.multiply(from_torch_to_numpy(weights), from_torch_to_numpy(torch.outer(p_bits, p_bits)))) - torch.dot(p_bits, bias)"
   ]
  },
  {
   "cell_type": "code",
   "execution_count": 34,
   "metadata": {},
   "outputs": [],
   "source": [
    "def activation_function(syn_input: torch.Tensor, beta: float):\n",
    "    return torch.heaviside(torch.tanh(beta * (-syn_input)) - (torch.rand(1) * 2 - 1), torch.tensor(0.0))"
   ]
  },
  {
   "cell_type": "code",
   "execution_count": 35,
   "metadata": {},
   "outputs": [],
   "source": [
    "def calculate_gradient(p_bits: torch.Tensor, weights: torch.Tensor, bias: torch.Tensor):\n",
    "    energy = energy_function(p_bits, weights, bias)\n",
    "    energy.backward(torch.ones(energy.shape))\n",
    "    p_bits.retain_grad()\n",
    "    return p_bits.grad"
   ]
  },
  {
   "cell_type": "code",
   "execution_count": 62,
   "metadata": {},
   "outputs": [],
   "source": [
    "def evaluate(beta, weights: torch.Tensor, bias: torch.Tensor):\n",
    "\n",
    "    def model():\n",
    "        \n",
    "        p_bits = torch.tensor([0.0, 1.0, 1.0], requires_grad=True) # third bit is clamped to 1\n",
    "        for i in range(1000):\n",
    "            indices = torch.randperm(2)\n",
    "            for p_bit_index in indices:\n",
    "                gradient = calculate_gradient(p_bits, weights, bias)\n",
    "                syn_input = gradient[p_bit_index.item()]\n",
    "                with torch.no_grad():\n",
    "                    p_bits.data[p_bit_index] = activation_function(syn_input, beta)\n",
    "                collect_states_ising[(p_bits[0].item(), p_bits[1].item())] += 1\n",
    "    model()"
   ]
  },
  {
   "cell_type": "code",
   "execution_count": 71,
   "metadata": {},
   "outputs": [
    {
     "name": "stdout",
     "output_type": "stream",
     "text": [
      "((1.0, 1.0), 527)\n"
     ]
    }
   ],
   "source": [
    "seed = 42\n",
    "torch.manual_seed(seed)\n",
    "evaluate(2 * 10 ** (-5), weights, bias)\n",
    "print(collect_states_ising.most_common()[0])\n",
    "collect_states_ising.clear()"
   ]
  }
 ],
 "metadata": {
  "kernelspec": {
   "display_name": "Python 3",
   "language": "python",
   "name": "python3"
  },
  "language_info": {
   "codemirror_mode": {
    "name": "ipython",
    "version": 3
   },
   "file_extension": ".py",
   "mimetype": "text/x-python",
   "name": "python",
   "nbconvert_exporter": "python",
   "pygments_lexer": "ipython3",
   "version": "3.8.10"
  },
  "orig_nbformat": 4
 },
 "nbformat": 4,
 "nbformat_minor": 2
}
