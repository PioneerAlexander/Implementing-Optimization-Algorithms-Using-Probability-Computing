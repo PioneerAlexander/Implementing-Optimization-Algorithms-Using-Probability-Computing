{
 "cells": [
  {
   "attachments": {},
   "cell_type": "markdown",
   "metadata": {},
   "source": [
    "# **Introduction**\n",
    "\n",
    "The aim of this project is to investigate the development of hybrid models of probabilistic with quantum computations to explore the potential for enhancing the computational power of current state-of-the-art NISQ computing.\n",
    "\n",
    "These models are primarly used for solving the computationally hard problems, which can be performed as combinatorial optimization problems, where the search space is finite, but too large to observe all states. \n",
    "\n",
    "In this publication, we consider the implementation approach on the example of the number partitioning problem. "
   ]
  },
  {
   "attachments": {},
   "cell_type": "markdown",
   "metadata": {},
   "source": [
    "# **Method**\n",
    "![Combinatorial optimization](src/rolos_image.png)\n",
    "The idea of probabilistic computing is to create a circuit of so-called p-bits. They can be perceived as stochastic building blocks with a normalized output $m_i \\in \\{-1, 1\\}$, which is calculated from the current state of the circuit using input-output relations of p-bits. We will call the state of the system the current ordered set of p-bit values."
   ]
  },
  {
   "cell_type": "markdown",
   "metadata": {},
   "source": [
    "The **energy function** is a function of the variables of the system whose global extremum corresponds to the solution of the optimization problem we consider.\n",
    "\n",
    "Hence, when updating p-bits, we generate new system states with the aim of identifying states that **minimize the energy** as defined by the optimization problem."
   ]
  },
  {
   "cell_type": "markdown",
   "metadata": {},
   "source": [
    "\n",
    "It appears that there exists a class of problems where the energy is quadratic with respect to each of the parameters. They are called quadratic energy models or the **Ising\n",
    "model**, and they are often mapped to NP-hard problems. \n",
    "\n",
    "$$E(m_1, m_2, \\ldots) = -\\sum_{i \\leq j} (W_{ij} m_i m_j + h_i m_i)\n",
    "$$"
   ]
  },
  {
   "cell_type": "markdown",
   "metadata": {},
   "source": [
    "\n",
    "It is defined by two parameters: weight matrix W and bias vector h.\n",
    "\n",
    "**Example: number partitioning problem**\n",
    "\n",
    "\n",
    "Number partitioning is the task of deciding whether a given multiset $S = \\{a_1, ...,  a_n\\}$ of positive integers can be partitioned into two subsets $S_1$ and $S_2$ such that the sum of the numbers in $S_1$ equals the sum of the numbers in $S_2$.\n",
    "\n",
    "Hence we can define the energy function as $(\\sum_{i} a_i m_i)^2$. Note that $m_i \\in \\{-1, 1\\}$, hence the minimum of energy is zero $\\iff$ the partitioning exists.\n",
    "\n",
    "Now that is easy to see that we can define the matrix $W$: $W_{ij} = - a_i a_j$ and the bias vector $h$: $h_i = 0$. \n"
   ]
  },
  {
   "cell_type": "markdown",
   "metadata": {},
   "source": [
    "# **Algorithm**\n",
    "\n",
    "- **Determine the energy function, the minimum of which will correspond to the solution of the given problem.**\n",
    "\n",
    "In the considered example it is $$E(m_1, m_2, \\ldots, m_n) = (\\sum_{i} a_i m_i)^2$$ The key is to determine weights matrix W and bias vector h.\n",
    "\n",
    "- **Define the initial state of the p-bits**.\n",
    "\n",
    " $\\forall i$ $m_i = 1$ is good choice.\n",
    "\n",
    "- **Choose the order of p-bit state changing** \n",
    "\n",
    "The order in which p-bits change their states in a p-bit computer architecture depends on random permutations of indices for each step. This implementation ensures that every p-bit is updated an equal number of times as other bits. This approach promotes fairness in state transitions, prevents bias towards specific p-bits, and balances the computational load across them.\n",
    "\n",
    "- **For each p-bit, calculate the new output using *activation function***\n",
    "\n",
    "    $$m_i = f(\\beta, I_i) = sign(\\tanh(\\beta I_i) - rand([-1, 1]))$$\n",
    "Where $I_i$ is the input of each bit and is a negated partial derivative with respect to p-bit $m_i$. It is called *synaptic input*.\n",
    "    $$I_i = -\\frac{\\delta E(m_1, \\ldots, m_n)}{\\delta m_i}$$\n",
    "and $\\beta$ is a inverse temperature - an important parameter in the algorithm, because it defines the fluctuation behaviour and helps to achieve the energy global minimum. \n",
    "\n",
    "- **Increase $\\beta$ (cool the system) if the new state has a lower energy**\n",
    "\n",
    "At high temperatures updates that change the energy of the system are comparatively more probable. When the system is highly correlated, updates are rejected and the simulation is said to suffer from critical slowing down. Hence we are starting with low inverse temperature $\\beta$ and then after every successful energy change we increase it's value to help the system to obtain the minimal energy value.\n",
    "\n",
    "- **Return the state that corresponds to the minimum energy achieved.**\n",
    "\n",
    "    The ability of this approach to produce correct results is based primarily on Boltzmann's law, which says that at a certain temperature ($1 / \\beta$) the states that minimise energy occur with the highest probability.\n",
    "    \n",
    "        \n"
   ]
  },
  {
   "attachments": {},
   "cell_type": "markdown",
   "metadata": {},
   "source": [
    "# **Results**"
   ]
  },
  {
   "attachments": {},
   "cell_type": "markdown",
   "metadata": {},
   "source": [
    "After putting the described algorithm into practice, I tested it across various scenarios using the number partitioning theorem. Remarkably, in each case, it managed to reach the minimum energy state, consistently providing accurate solutions. To illustrate, let's consider the example of the output when working with numbers from 1 to 32.\n",
    "\n",
    "First set of numbers:\n",
    "**2 3 4 5 6 7 10 13 15 16 21 23 24 27 28 29 31**\n",
    "\n",
    "Second set of numbers: \n",
    "**1 8 9 11 12 14 17 18 19 20 22 25 26 30 32**"
   ]
  },
  {
   "cell_type": "markdown",
   "metadata": {},
   "source": [
    "Now, let's examine the computational contrast between our solution and the naive implementation (complete search)."
   ]
  },
  {
   "cell_type": "code",
   "execution_count": 2,
   "metadata": {
    "ExecuteTime": {
     "end_time": "2023-10-06T00:20:12.178254679Z",
     "start_time": "2023-10-06T00:20:12.078692473Z"
    }
   },
   "outputs": [
    {
     "data": {
      "text/html": "\n<style>\n  #altair-viz-57002b008e7d487a9d71c7665f69325c.vega-embed {\n    width: 100%;\n    display: flex;\n  }\n\n  #altair-viz-57002b008e7d487a9d71c7665f69325c.vega-embed details,\n  #altair-viz-57002b008e7d487a9d71c7665f69325c.vega-embed details summary {\n    position: relative;\n  }\n</style>\n<div id=\"altair-viz-57002b008e7d487a9d71c7665f69325c\"></div>\n<script type=\"text/javascript\">\n  var VEGA_DEBUG = (typeof VEGA_DEBUG == \"undefined\") ? {} : VEGA_DEBUG;\n  (function(spec, embedOpt){\n    let outputDiv = document.currentScript.previousElementSibling;\n    if (outputDiv.id !== \"altair-viz-57002b008e7d487a9d71c7665f69325c\") {\n      outputDiv = document.getElementById(\"altair-viz-57002b008e7d487a9d71c7665f69325c\");\n    }\n    const paths = {\n      \"vega\": \"https://cdn.jsdelivr.net/npm/vega@5?noext\",\n      \"vega-lib\": \"https://cdn.jsdelivr.net/npm/vega-lib?noext\",\n      \"vega-lite\": \"https://cdn.jsdelivr.net/npm/vega-lite@5.8.0?noext\",\n      \"vega-embed\": \"https://cdn.jsdelivr.net/npm/vega-embed@6?noext\",\n    };\n\n    function maybeLoadScript(lib, version) {\n      var key = `${lib.replace(\"-\", \"\")}_version`;\n      return (VEGA_DEBUG[key] == version) ?\n        Promise.resolve(paths[lib]) :\n        new Promise(function(resolve, reject) {\n          var s = document.createElement('script');\n          document.getElementsByTagName(\"head\")[0].appendChild(s);\n          s.async = true;\n          s.onload = () => {\n            VEGA_DEBUG[key] = version;\n            return resolve(paths[lib]);\n          };\n          s.onerror = () => reject(`Error loading script: ${paths[lib]}`);\n          s.src = paths[lib];\n        });\n    }\n\n    function showError(err) {\n      outputDiv.innerHTML = `<div class=\"error\" style=\"color:red;\">${err}</div>`;\n      throw err;\n    }\n\n    function displayChart(vegaEmbed) {\n      vegaEmbed(outputDiv, spec, embedOpt)\n        .catch(err => showError(`Javascript Error: ${err.message}<br>This usually means there's a typo in your chart specification. See the javascript console for the full traceback.`));\n    }\n\n    if(typeof define === \"function\" && define.amd) {\n      requirejs.config({paths});\n      require([\"vega-embed\"], displayChart, err => showError(`Error loading script: ${err.message}`));\n    } else {\n      maybeLoadScript(\"vega\", \"5\")\n        .then(() => maybeLoadScript(\"vega-lite\", \"5.8.0\"))\n        .then(() => maybeLoadScript(\"vega-embed\", \"6\"))\n        .catch(showError)\n        .then(() => displayChart(vegaEmbed));\n    }\n  })({\"config\": {\"view\": {\"continuousWidth\": 300, \"continuousHeight\": 300}}, \"layer\": [{\"mark\": {\"type\": \"line\", \"point\": true}, \"encoding\": {\"color\": {\"value\": \"blue\"}, \"tooltip\": [{\"field\": \"Input Cases\", \"type\": \"quantitative\"}, {\"field\": \"Complete Search Execution Time\", \"type\": \"quantitative\"}], \"x\": {\"field\": \"Input Cases\", \"type\": \"quantitative\"}, \"y\": {\"field\": \"Complete Search Execution Time\", \"type\": \"quantitative\"}}, \"name\": \"view_2\", \"title\": \"Computational Difference Between Complete Search and Probabilistic Computing\"}, {\"mark\": {\"type\": \"line\", \"point\": true}, \"encoding\": {\"color\": {\"value\": \"red\"}, \"tooltip\": [{\"field\": \"Input Cases\", \"type\": \"quantitative\"}, {\"field\": \"Probabilistic Computing Execution Time\", \"type\": \"quantitative\"}], \"x\": {\"field\": \"Input Cases\", \"type\": \"quantitative\"}, \"y\": {\"field\": \"Probabilistic Computing Execution Time\", \"type\": \"quantitative\"}}}], \"data\": {\"name\": \"data-423956a81ab22a91830895a47be4483e\"}, \"params\": [{\"name\": \"param_2\", \"select\": {\"type\": \"interval\", \"encodings\": [\"x\", \"y\"]}, \"bind\": \"scales\", \"views\": [\"view_2\"]}], \"width\": 500, \"$schema\": \"https://vega.github.io/schema/vega-lite/v5.8.0.json\", \"datasets\": {\"data-423956a81ab22a91830895a47be4483e\": [{\"Input Cases\": 6, \"Complete Search Execution Time\": 5.7697296142578125e-05, \"Probabilistic Computing Execution Time\": 0.18785452842712402}, {\"Input Cases\": 8, \"Complete Search Execution Time\": 7.700920104980469e-05, \"Probabilistic Computing Execution Time\": 0.22379279136657715}, {\"Input Cases\": 12, \"Complete Search Execution Time\": 0.0006759166717529297, \"Probabilistic Computing Execution Time\": 0.34358716011047363}, {\"Input Cases\": 18, \"Complete Search Execution Time\": 0.03530168533325195, \"Probabilistic Computing Execution Time\": 0.5495147705078125}, {\"Input Cases\": 19, \"Complete Search Execution Time\": 0.05919766426086426, \"Probabilistic Computing Execution Time\": 0.5546219348907471}, {\"Input Cases\": 20, \"Complete Search Execution Time\": 0.2158496379852295, \"Probabilistic Computing Execution Time\": 0.5766348838806152}, {\"Input Cases\": 21, \"Complete Search Execution Time\": 0.24437642097473145, \"Probabilistic Computing Execution Time\": 0.7116522789001465}, {\"Input Cases\": 22, \"Complete Search Execution Time\": 0.5796020030975342, \"Probabilistic Computing Execution Time\": 0.7572066783905029}, {\"Input Cases\": 23, \"Complete Search Execution Time\": 1.0086231231689453, \"Probabilistic Computing Execution Time\": 0.6926448345184326}, {\"Input Cases\": 27, \"Complete Search Execution Time\": 16.80867075920105, \"Probabilistic Computing Execution Time\": 0.9135968685150146}, {\"Input Cases\": 28, \"Complete Search Execution Time\": 39.62793040275574, \"Probabilistic Computing Execution Time\": 0.964179277420044}, {\"Input Cases\": 29, \"Complete Search Execution Time\": 69.11628222465515, \"Probabilistic Computing Execution Time\": 0.9963042736053467}, {\"Input Cases\": 30, \"Complete Search Execution Time\": 166.19825863838196, \"Probabilistic Computing Execution Time\": 1.0487761497497559}, {\"Input Cases\": 31, \"Complete Search Execution Time\": 294.98395586013794, \"Probabilistic Computing Execution Time\": 1.011204719543457}, {\"Input Cases\": 32, \"Complete Search Execution Time\": 665.634993314743, \"Probabilistic Computing Execution Time\": 1.041233777999878}]}}, {\"mode\": \"vega-lite\"});\n</script>",
      "text/plain": "alt.LayerChart(...)"
     },
     "execution_count": 2,
     "metadata": {},
     "output_type": "execute_result"
    }
   ],
   "source": [
    "import pandas as pd\n",
    "import altair as alt\n",
    "\n",
    "test_cases = [6, 8, 12, 18, 19, 20, 21, 22, 23, 27, 28, 29, 30, 31, 32]\n",
    "\n",
    "execution_times_complete_search = [5.7697296142578125e-05, 7.700920104980469e-05, 0.0006759166717529297, 0.03530168533325195, 0.05919766426086426, 0.2158496379852295, 0.24437642097473145, 0.5796020030975342, 1.0086231231689453, 16.80867075920105, 39.62793040275574, 69.11628222465515, 166.19825863838196, 294.98395586013794, 665.634993314743]\n",
    "execution_times_find_energy_minimum = [0.18785452842712402, 0.22379279136657715, 0.34358716011047363, 0.5495147705078125, 0.5546219348907471, 0.5766348838806152, 0.7116522789001465, 0.7572066783905029, 0.6926448345184326, 0.9135968685150146, 0.964179277420044, 0.9963042736053467, 1.0487761497497559, 1.011204719543457, 1.041233777999878]\n",
    "\n",
    "data = pd.DataFrame({\n",
    "    'Input Cases': test_cases,\n",
    "    'Complete Search Execution Time': execution_times_complete_search,\n",
    "    'Probabilistic Computing Execution Time': execution_times_find_energy_minimum\n",
    "})\n",
    "\n",
    "chart = alt.Chart(data).mark_line(point=True).encode(\n",
    "    x='Input Cases',\n",
    "    y='Complete Search Execution Time:Q',\n",
    "    color=alt.value('blue'),\n",
    "    tooltip=['Input Cases', 'Complete Search Execution Time']\n",
    ").properties(\n",
    "    title='Computational Difference Between Complete Search and Probabilistic Computing',\n",
    "    width=500\n",
    ") + alt.Chart(data).mark_line(point=True).encode(\n",
    "    x='Input Cases',\n",
    "    y='Probabilistic Computing Execution Time',\n",
    "    color=alt.value('red'),\n",
    "    tooltip=['Input Cases', 'Probabilistic Computing Execution Time']\n",
    ")\n",
    "\n",
    "chart.interactive()"
   ]
  },
  {
   "attachments": {},
   "cell_type": "markdown",
   "metadata": {},
   "source": [
    "# **Conclusion**\n",
    "\n",
    "The main ideas that are associated with the use of probabilistic networks have been reviewed, as well as approaches that reduce the cost of finding the optimal state.  The possibility of searching for the minimum state of energy expressed by the Ising model allows solving combinatorial optimization problems by determining only the parameters of weights and biases. \n",
    "\n",
    "A potential continuation of this review is to consider parameter setting via transformation of problems formulated using invertible logic circuits to Ising Model formulation.  "
   ]
  },
  {
   "attachments": {},
   "cell_type": "markdown",
   "metadata": {},
   "source": [
    "### **Notebooks**\n",
    "\n",
    "Notebook [factorisation_beta.ipynb](Implementing-Optimization-Algorithms-Using-Probability-Computing/factorisation_beta.ipynb) presents an example of solving Integer factorisation problem using the energy function, which prevents it from being considered as an ising model, because it is not linear.\n",
    "\n",
    "Notebook [ising_model_and_gate.ipynb](Implementing-Optimization-Algorithms-Using-Probability-Computing/ising_model_beta.ipynb) presents an example of using Ising Model for the implementing invertible AND-gate behaviour.\n",
    "\n",
    "Notebook [ising_model_np_problems.ipynb](Implementing-Optimization-Algorithms-Using-Probability-Computing/ising_model_np_problems.ipynb) presents an example of using Ising Model for the implementing Number Partitioning and Minimum Bisection Problem\n",
    "\n",
    "\n",
    "."
   ]
  }
 ],
 "metadata": {
  "kernelspec": {
   "display_name": "Python 3",
   "language": "python",
   "name": "python3"
  },
  "language_info": {
   "codemirror_mode": {
    "name": "ipython",
    "version": 3
   },
   "file_extension": ".py",
   "mimetype": "text/x-python",
   "name": "python",
   "nbconvert_exporter": "python",
   "pygments_lexer": "ipython3",
   "version": "3.8.10"
  },
  "orig_nbformat": 4
 },
 "nbformat": 4,
 "nbformat_minor": 2
}
