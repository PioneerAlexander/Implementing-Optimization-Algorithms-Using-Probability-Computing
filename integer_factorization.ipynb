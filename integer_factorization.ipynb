{
 "cells": [
  {
   "cell_type": "code",
   "execution_count": 9,
   "outputs": [],
   "source": [
    "import torch\n",
    "from collections import Counter\n"
   ],
   "metadata": {
    "collapsed": false,
    "ExecuteTime": {
     "end_time": "2023-07-27T07:43:56.418396672Z",
     "start_time": "2023-07-27T07:43:56.361884394Z"
    }
   }
  },
  {
   "cell_type": "code",
   "execution_count": 10,
   "outputs": [],
   "source": [
    "def unit_step_with_rand(x):\n",
    "    return torch.where(x >= torch.rand(1), torch.tensor(1.0), torch.tensor(0.0))\n",
    "\n",
    "\n",
    "def transform(tensor: torch.Tensor):\n",
    "    return unit_step_with_rand(torch.sigmoid(tensor))\n",
    "\n",
    "def number_from_tensor(tensor: torch.Tensor):\n",
    "    powers_of_two = torch.vander(torch.Tensor([2]), N=tensor.size(dim=0)+1, increasing=True)\n",
    "    scalar_mul = tensor * torch.reshape(powers_of_two, (-1,))[1:]\n",
    "    return 1 + scalar_mul.sum()"
   ],
   "metadata": {
    "collapsed": false,
    "ExecuteTime": {
     "end_time": "2023-07-27T07:43:56.436046386Z",
     "start_time": "2023-07-27T07:43:56.404245788Z"
    }
   }
  },
  {
   "cell_type": "code",
   "execution_count": 11,
   "outputs": [],
   "source": [
    "class MyIntegerFactorizationModel:\n",
    "\n",
    "    def __init__(self, F: int):\n",
    "        self.F = F\n",
    "        length = F.bit_length()\n",
    "        self.P = (length - 1) // 2\n",
    "        self.Q = length - 2 - self.P\n",
    "        self.eternal_tensor = torch.ones(self.P + self.Q, requires_grad=True)\n",
    "        self.tensor_collector = Counter()\n",
    "        self.other_tensor_collector = Counter()\n",
    "\n",
    "    def energy_function(self, tensor: torch.Tensor, i_0) -> torch.Tensor:\n",
    "        return i_0 * (number_from_tensor(tensor[:self.P]) * number_from_tensor(tensor[self.P:]) - self.F) ** 2\n",
    "\n",
    "    def evaluate(self, times: int):\n",
    "        for i in range(times):\n",
    "            first_number = number_from_tensor(self.eternal_tensor[:self.P])\n",
    "            second_number = number_from_tensor(self.eternal_tensor[self.P:])\n",
    "            self.tensor_collector[first_number.item()] += 1\n",
    "            self.other_tensor_collector[second_number.item()] += 1\n",
    "            energy = self.energy_function(self.eternal_tensor, 0.005)\n",
    "            energy.backward(torch.ones(energy.shape))\n",
    "            gradient = self.eternal_tensor.grad\n",
    "            trans = transform(-gradient)\n",
    "            with torch.no_grad():\n",
    "                self.eternal_tensor.data = trans"
   ],
   "metadata": {
    "collapsed": false,
    "ExecuteTime": {
     "end_time": "2023-07-27T07:43:56.436473494Z",
     "start_time": "2023-07-27T07:43:56.404778188Z"
    }
   }
  },
  {
   "cell_type": "code",
   "execution_count": 12,
   "outputs": [
    {
     "name": "stdout",
     "output_type": "stream",
     "text": [
      "Counter({1.0: 26, 7.0: 11, 3.0: 3})\n"
     ]
    }
   ],
   "source": [
    "integer_factorization = MyIntegerFactorizationModel(35)\n",
    "\n",
    "integer_factorization.evaluate(40)\n",
    "print(integer_factorization.tensor_collector)"
   ],
   "metadata": {
    "collapsed": false,
    "ExecuteTime": {
     "end_time": "2023-07-27T07:43:56.438332880Z",
     "start_time": "2023-07-27T07:43:56.405295367Z"
    }
   }
  }
 ],
 "metadata": {
  "kernelspec": {
   "display_name": "Python 3",
   "language": "python",
   "name": "python3"
  },
  "language_info": {
   "codemirror_mode": {
    "name": "ipython",
    "version": 2
   },
   "file_extension": ".py",
   "mimetype": "text/x-python",
   "name": "python",
   "nbconvert_exporter": "python",
   "pygments_lexer": "ipython2",
   "version": "2.7.6"
  }
 },
 "nbformat": 4,
 "nbformat_minor": 0
}
