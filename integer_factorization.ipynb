{
 "cells": [
  {
   "cell_type": "code",
   "execution_count": 1,
   "metadata": {
    "ExecuteTime": {
     "end_time": "2023-08-10T19:49:06.472210943Z",
     "start_time": "2023-08-10T19:49:06.427970576Z"
    },
    "collapsed": false
   },
   "outputs": [],
   "source": [
    "import torch\n",
    "from collections import Counter\n"
   ]
  },
  {
   "cell_type": "code",
   "execution_count": 2,
   "metadata": {
    "ExecuteTime": {
     "end_time": "2023-08-10T19:49:06.473085018Z",
     "start_time": "2023-08-10T19:49:06.471786093Z"
    },
    "collapsed": false
   },
   "outputs": [],
   "source": [
    "def unit_step_with_rand(x, previous_value):\n",
    "    return 1 - previous_value if x <= torch.rand(1) else previous_value\n",
    "\n",
    "def dwell_function(tensor, tao):\n",
    "    return tao * torch.exp(tensor)\n",
    "\n",
    "def other_transform(tensor: torch.Tensor, delta, previous_value):\n",
    "    return unit_step_with_rand(1 - torch.exp(-delta/dwell_function(tensor, 10**(-11))), previous_value)\n",
    "\n",
    "def number_from_tensor(tensor: torch.Tensor):\n",
    "    powers_of_two = torch.vander(torch.Tensor([2]), N=tensor.size(dim=0)+1, increasing=True)\n",
    "    scalar_mul = tensor * torch.reshape(powers_of_two, (-1,))[1:]\n",
    "    return 1 + scalar_mul.sum()"
   ]
  },
  {
   "cell_type": "code",
   "execution_count": 3,
   "metadata": {
    "ExecuteTime": {
     "end_time": "2023-08-10T19:49:06.473817733Z",
     "start_time": "2023-08-10T19:49:06.472739439Z"
    },
    "collapsed": false
   },
   "outputs": [],
   "source": [
    "class MyIntegerFactorizationModel:\n",
    "\n",
    "    def __init__(self, F: int, fitting_parameter: float, delta: float):\n",
    "        self.F = F\n",
    "        length = F.bit_length()\n",
    "        self.P = (length - 1) // 2\n",
    "        self.Q = length - 2 - self.P\n",
    "        #self.eternal_tensor = torch.ones(self.P + self.Q, requires_grad=True)\n",
    "        self.eternal_tensor = torch.randint(0, 2, size=(self.P + self.Q,), dtype=torch.float32, requires_grad=True)\n",
    "        self.tensor_collector = Counter()\n",
    "        self.fitting_parameter = fitting_parameter\n",
    "        self.random_vector = torch.rand(self.P + self.Q)\n",
    "        self.delta = delta\n",
    "\n",
    "    def energy_function(self, tensor: torch.Tensor) -> torch.Tensor:\n",
    "        return self.fitting_parameter * (number_from_tensor(tensor[:self.P]) * number_from_tensor(tensor[self.P:]) - self.F) ** 2\n",
    "\n",
    "    def calculate_gradient(self):\n",
    "        energy = self.energy_function(self.eternal_tensor)\n",
    "        energy.backward(torch.ones(energy.shape))\n",
    "        self.eternal_tensor.retain_grad()\n",
    "        return self.eternal_tensor.grad\n",
    "\n",
    "\n",
    "    def evaluate(self):\n",
    "        self.manage_counting()\n",
    "        gradient = self.calculate_gradient()\n",
    "        index = torch.randint(self.P + self.Q, (1, ))\n",
    "        current_grad = gradient[index]\n",
    "        previous_value = self.eternal_tensor[index]\n",
    "        trans = other_transform(-current_grad if self.eternal_tensor[index] == 0 else current_grad, self.delta, previous_value)\n",
    "        with torch.no_grad():\n",
    "            self.eternal_tensor.data[index] = trans\n",
    "\n",
    "    def manage_counting(self):\n",
    "        first_number = number_from_tensor(self.eternal_tensor[:self.P])\n",
    "        second_number = number_from_tensor(self.eternal_tensor[self.P:])\n",
    "        if first_number != 1:\n",
    "            self.tensor_collector[first_number.item()] += 1\n",
    "        if second_number != 1:\n",
    "            self.tensor_collector[second_number.item()] += 1"
   ]
  },
  {
   "cell_type": "code",
   "execution_count": 7,
   "metadata": {
    "ExecuteTime": {
     "end_time": "2023-08-10T19:56:56.299526309Z",
     "start_time": "2023-08-10T19:56:55.576887745Z"
    },
    "collapsed": false
   },
   "outputs": [
    {
     "name": "stdout",
     "output_type": "stream",
     "text": [
      "Counter({7.0: 3995, 3.0: 4, 5.0: 1})\n"
     ]
    }
   ],
   "source": [
    "integer_factorization = MyIntegerFactorizationModel(F=57, fitting_parameter=5, delta = 1)\n",
    "\n",
    "for i in range(2000):\n",
    "    integer_factorization.evaluate()\n",
    "\n",
    "print(integer_factorization.tensor_collector)"
   ]
  }
 ],
 "metadata": {
  "kernelspec": {
   "display_name": "Python 3",
   "language": "python",
   "name": "python3"
  },
  "language_info": {
   "codemirror_mode": {
    "name": "ipython",
    "version": 3
   },
   "file_extension": ".py",
   "mimetype": "text/x-python",
   "name": "python",
   "nbconvert_exporter": "python",
   "pygments_lexer": "ipython3",
   "version": "3.8.10"
  }
 },
 "nbformat": 4,
 "nbformat_minor": 0
}
