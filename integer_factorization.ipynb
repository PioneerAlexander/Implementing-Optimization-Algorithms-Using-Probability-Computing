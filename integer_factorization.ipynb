{
 "cells": [
  {
   "cell_type": "code",
   "execution_count": 9,
   "outputs": [],
   "source": [
    "import torch\n",
    "from collections import Counter\n"
   ],
   "metadata": {
    "collapsed": false,
    "ExecuteTime": {
     "end_time": "2023-07-27T15:17:54.903723225Z",
     "start_time": "2023-07-27T15:17:54.841989702Z"
    }
   }
  },
  {
   "cell_type": "code",
   "execution_count": 19,
   "outputs": [],
   "source": [
    "def unit_step_with_rand(x):\n",
    "    return torch.where(x >= torch.rand(1), torch.tensor(1.0), torch.tensor(0.0))\n",
    "\n",
    "def transform(tensor: torch.Tensor):\n",
    "    return unit_step_with_rand(torch.sigmoid(tensor))\n",
    "\n",
    "def number_from_tensor(tensor: torch.Tensor):\n",
    "    powers_of_two = torch.vander(torch.Tensor([2]), N=tensor.size(dim=0)+1, increasing=True)\n",
    "    scalar_mul = tensor * torch.reshape(powers_of_two, (-1,))[1:]\n",
    "    return 1 + scalar_mul.sum()"
   ],
   "metadata": {
    "collapsed": false,
    "ExecuteTime": {
     "end_time": "2023-07-27T15:19:38.764430072Z",
     "start_time": "2023-07-27T15:19:38.759267824Z"
    }
   }
  },
  {
   "cell_type": "code",
   "execution_count": 71,
   "outputs": [],
   "source": [
    "class MyIntegerFactorizationModel:\n",
    "\n",
    "    def __init__(self, F: int, fitting_parameter: float):\n",
    "        self.F = F\n",
    "        length = F.bit_length()\n",
    "        self.P = (length - 1) // 2\n",
    "        self.Q = length - 2 - self.P\n",
    "        self.eternal_tensor = torch.ones(self.P + self.Q, requires_grad=True)\n",
    "        self.tensor_collector = Counter()\n",
    "        self.fitting_parameter = fitting_parameter\n",
    "\n",
    "    def energy_function(self, tensor: torch.Tensor) -> torch.Tensor:\n",
    "        return self.fitting_parameter * (number_from_tensor(tensor[:self.P]) * number_from_tensor(tensor[self.P:]) - self.F) ** 2\n",
    "\n",
    "    def calculate_gradient(self):\n",
    "        energy = self.energy_function(self.eternal_tensor)\n",
    "        energy.backward(torch.ones(energy.shape))\n",
    "        self.eternal_tensor.retain_grad()\n",
    "        return self.eternal_tensor.grad\n",
    "\n",
    "\n",
    "    def evaluate(self):\n",
    "        self.manage_counting()\n",
    "        gradient = self.calculate_gradient()\n",
    "        index = torch.randint(self.P + self.Q, (1, ))\n",
    "        trans = transform(-gradient[index])\n",
    "        with torch.no_grad():\n",
    "            self.eternal_tensor.data[index] = trans\n",
    "\n",
    "    def manage_counting(self):\n",
    "        first_number = number_from_tensor(self.eternal_tensor[:self.P])\n",
    "        second_number = number_from_tensor(self.eternal_tensor[self.P:])\n",
    "        self.tensor_collector[(first_number.item(), second_number.item())] += 1\n"
   ],
   "metadata": {
    "collapsed": false,
    "ExecuteTime": {
     "end_time": "2023-07-27T16:00:54.056163516Z",
     "start_time": "2023-07-27T16:00:54.048473856Z"
    }
   }
  },
  {
   "cell_type": "code",
   "execution_count": 84,
   "outputs": [
    {
     "name": "stdout",
     "output_type": "stream",
     "text": [
      "Counter({(7.0, 7.0): 1311, (7.0, 5.0): 548, (5.0, 7.0): 534, (7.0, 3.0): 492, (3.0, 7.0): 446, (1.0, 7.0): 199, (7.0, 1.0): 179, (3.0, 5.0): 73, (5.0, 5.0): 72, (5.0, 3.0): 44, (3.0, 3.0): 41, (3.0, 1.0): 29, (1.0, 5.0): 11, (5.0, 1.0): 11, (1.0, 3.0): 7, (1.0, 1.0): 3})\n"
     ]
    }
   ],
   "source": [
    "integer_factorization = MyIntegerFactorizationModel(35, 5)\n",
    "\n",
    "for i in range(4000):\n",
    "    integer_factorization.evaluate()\n",
    "print(integer_factorization.tensor_collector)"
   ],
   "metadata": {
    "collapsed": false,
    "ExecuteTime": {
     "end_time": "2023-07-27T16:02:16.618705319Z",
     "start_time": "2023-07-27T16:02:15.339472087Z"
    }
   }
  }
 ],
 "metadata": {
  "kernelspec": {
   "display_name": "Python 3",
   "language": "python",
   "name": "python3"
  },
  "language_info": {
   "codemirror_mode": {
    "name": "ipython",
    "version": 2
   },
   "file_extension": ".py",
   "mimetype": "text/x-python",
   "name": "python",
   "nbconvert_exporter": "python",
   "pygments_lexer": "ipython2",
   "version": "2.7.6"
  }
 },
 "nbformat": 4,
 "nbformat_minor": 0
}
