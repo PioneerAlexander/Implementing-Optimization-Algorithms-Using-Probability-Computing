{
 "cells": [
  {
   "cell_type": "code",
   "execution_count": 9,
   "outputs": [],
   "source": [
    "import torch\n",
    "from collections import Counter\n"
   ],
   "metadata": {
    "collapsed": false,
    "ExecuteTime": {
     "end_time": "2023-07-27T15:17:54.903723225Z",
     "start_time": "2023-07-27T15:17:54.841989702Z"
    }
   }
  },
  {
   "cell_type": "code",
   "execution_count": 19,
   "outputs": [],
   "source": [
    "def unit_step_with_rand(x):\n",
    "    return torch.where(x >= torch.rand(1), torch.tensor(1.0), torch.tensor(0.0))\n",
    "\n",
    "def transform(tensor: torch.Tensor):\n",
    "    return unit_step_with_rand(torch.sigmoid(tensor))\n",
    "\n",
    "def number_from_tensor(tensor: torch.Tensor):\n",
    "    powers_of_two = torch.vander(torch.Tensor([2]), N=tensor.size(dim=0)+1, increasing=True)\n",
    "    scalar_mul = tensor * torch.reshape(powers_of_two, (-1,))[1:]\n",
    "    return 1 + scalar_mul.sum()"
   ],
   "metadata": {
    "collapsed": false,
    "ExecuteTime": {
     "end_time": "2023-07-27T15:19:38.764430072Z",
     "start_time": "2023-07-27T15:19:38.759267824Z"
    }
   }
  },
  {
   "cell_type": "code",
   "execution_count": 46,
   "outputs": [],
   "source": [
    "class MyIntegerFactorizationModel:\n",
    "\n",
    "    def __init__(self, F: int):\n",
    "        self.F = F\n",
    "        length = F.bit_length()\n",
    "        self.P = (length - 1) // 2\n",
    "        self.Q = length - 2 - self.P\n",
    "        self.eternal_tensor = torch.ones(self.P + self.Q, requires_grad=True)\n",
    "        self.tensor_collector = Counter()\n",
    "        self.other_tensor_collector = Counter()\n",
    "\n",
    "    def energy_function(self, tensor: torch.Tensor, i_0) -> torch.Tensor:\n",
    "        return i_0 * (number_from_tensor(tensor[:self.P]) * number_from_tensor(tensor[self.P:]) - self.F) ** 2\n",
    "\n",
    "    def calculate_gradient(self):\n",
    "        energy = self.energy_function(self.eternal_tensor, i_0=0.5)\n",
    "        energy.backward(torch.ones(energy.shape))\n",
    "        self.eternal_tensor.retain_grad()\n",
    "        return self.eternal_tensor.grad\n",
    "\n",
    "\n",
    "    def evaluate(self, times: int, fitting_parameter=0.5):\n",
    "        for i in range(times):\n",
    "            self.manage_counting()\n",
    "            gradient = self.calculate_gradient()\n",
    "            index = torch.randint(self.P + self.Q, (1, ))\n",
    "            trans = transform(-gradient[index])\n",
    "            with torch.no_grad():\n",
    "                self.eternal_tensor.data[index] = trans\n",
    "    def manage_counting(self):\n",
    "        first_number = number_from_tensor(self.eternal_tensor[:self.P])\n",
    "        second_number = number_from_tensor(self.eternal_tensor[self.P:])\n",
    "        self.tensor_collector[first_number.item()] += 1\n",
    "        self.other_tensor_collector[second_number.item()] += 1\n",
    "    # def bit_fluctuating(self):\n"
   ],
   "metadata": {
    "collapsed": false,
    "ExecuteTime": {
     "end_time": "2023-07-27T15:42:06.842705423Z",
     "start_time": "2023-07-27T15:42:06.834378400Z"
    }
   }
  },
  {
   "cell_type": "code",
   "execution_count": 50,
   "outputs": [
    {
     "name": "stdout",
     "output_type": "stream",
     "text": [
      "Counter({7.0: 2391, 5.0: 779, 3.0: 653, 1.0: 177})\n",
      "Counter({7.0: 2646, 3.0: 594, 5.0: 564, 1.0: 196})\n"
     ]
    }
   ],
   "source": [
    "integer_factorization = MyIntegerFactorizationModel(35)\n",
    "\n",
    "integer_factorization.evaluate(4000)\n",
    "print(integer_factorization.tensor_collector)\n",
    "print(integer_factorization.other_tensor_collector)"
   ],
   "metadata": {
    "collapsed": false,
    "ExecuteTime": {
     "end_time": "2023-07-27T15:44:01.572685040Z",
     "start_time": "2023-07-27T15:44:00.331413923Z"
    }
   }
  }
 ],
 "metadata": {
  "kernelspec": {
   "display_name": "Python 3",
   "language": "python",
   "name": "python3"
  },
  "language_info": {
   "codemirror_mode": {
    "name": "ipython",
    "version": 2
   },
   "file_extension": ".py",
   "mimetype": "text/x-python",
   "name": "python",
   "nbconvert_exporter": "python",
   "pygments_lexer": "ipython2",
   "version": "2.7.6"
  }
 },
 "nbformat": 4,
 "nbformat_minor": 0
}
