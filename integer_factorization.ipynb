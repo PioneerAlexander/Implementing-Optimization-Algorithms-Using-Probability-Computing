{
 "cells": [
  {
   "cell_type": "code",
   "execution_count": 380,
   "outputs": [],
   "source": [
    "import torch\n",
    "from collections import Counter\n"
   ],
   "metadata": {
    "collapsed": false,
    "ExecuteTime": {
     "end_time": "2023-07-27T19:42:09.229778621Z",
     "start_time": "2023-07-27T19:42:09.184447817Z"
    }
   }
  },
  {
   "cell_type": "code",
   "execution_count": 381,
   "outputs": [],
   "source": [
    "def unit_step_with_rand(x):\n",
    "    return torch.where(x >= torch.rand(1), torch.tensor(1.0), torch.tensor(0.0))\n",
    "\n",
    "def transform(tensor: torch.Tensor):\n",
    "    return unit_step_with_rand(torch.sigmoid(tensor))\n",
    "\n",
    "def number_from_tensor(tensor: torch.Tensor):\n",
    "    powers_of_two = torch.vander(torch.Tensor([2]), N=tensor.size(dim=0)+1, increasing=True)\n",
    "    scalar_mul = tensor * torch.reshape(powers_of_two, (-1,))[1:]\n",
    "    return 1 + scalar_mul.sum()"
   ],
   "metadata": {
    "collapsed": false,
    "ExecuteTime": {
     "end_time": "2023-07-27T19:42:09.232737072Z",
     "start_time": "2023-07-27T19:42:09.230257600Z"
    }
   }
  },
  {
   "cell_type": "code",
   "execution_count": 382,
   "outputs": [],
   "source": [
    "class MyIntegerFactorizationModel:\n",
    "\n",
    "    def __init__(self, F: int, fitting_parameter: float):\n",
    "        self.F = F\n",
    "        length = F.bit_length()\n",
    "        self.P = (length - 1) // 2\n",
    "        self.Q = length - 2 - self.P\n",
    "        # self.eternal_tensor = torch.ones(self.P + self.Q, requires_grad=True)\n",
    "        self.eternal_tensor = torch.randint(0, 2, size=(self.P + self.Q,), dtype=torch.float32, requires_grad=True)\n",
    "        self.tensor_collector = Counter()\n",
    "        self.fitting_parameter = fitting_parameter\n",
    "\n",
    "    def energy_function(self, tensor: torch.Tensor) -> torch.Tensor:\n",
    "        return self.fitting_parameter * (number_from_tensor(tensor[:self.P]) * number_from_tensor(tensor[self.P:]) - self.F) ** 2\n",
    "\n",
    "    def calculate_gradient(self):\n",
    "        energy = self.energy_function(self.eternal_tensor)\n",
    "        energy.backward(torch.ones(energy.shape))\n",
    "        self.eternal_tensor.retain_grad()\n",
    "        return self.eternal_tensor.grad\n",
    "\n",
    "\n",
    "    def evaluate(self):\n",
    "        self.manage_counting()\n",
    "        gradient = self.calculate_gradient()\n",
    "        index = torch.randint(self.P + self.Q, (1, ))\n",
    "        trans = transform(-gradient[index])\n",
    "        with torch.no_grad():\n",
    "            self.eternal_tensor.data[index] = trans\n",
    "\n",
    "    def manage_counting(self):\n",
    "        first_number = number_from_tensor(self.eternal_tensor[:self.P])\n",
    "        second_number = number_from_tensor(self.eternal_tensor[self.P:])\n",
    "        self.tensor_collector[(first_number.item(), second_number.item())] += 1\n"
   ],
   "metadata": {
    "collapsed": false,
    "ExecuteTime": {
     "end_time": "2023-07-27T19:42:09.233382834Z",
     "start_time": "2023-07-27T19:42:09.230724985Z"
    }
   }
  },
  {
   "cell_type": "code",
   "execution_count": 383,
   "outputs": [
    {
     "name": "stdout",
     "output_type": "stream",
     "text": [
      "Counter({(5.0, 7.0): 32, (7.0, 7.0): 25, (7.0, 3.0): 20, (1.0, 7.0): 11, (3.0, 7.0): 6, (7.0, 5.0): 3, (7.0, 1.0): 1, (5.0, 3.0): 1, (3.0, 3.0): 1})\n"
     ]
    }
   ],
   "source": [
    "integer_factorization = MyIntegerFactorizationModel(35, 0.25)\n",
    "\n",
    "for i in range(100):\n",
    "    integer_factorization.evaluate()\n",
    "\n",
    "print(integer_factorization.tensor_collector)"
   ],
   "metadata": {
    "collapsed": false,
    "ExecuteTime": {
     "end_time": "2023-07-27T19:42:09.287047783Z",
     "start_time": "2023-07-27T19:42:09.231021745Z"
    }
   }
  }
 ],
 "metadata": {
  "kernelspec": {
   "display_name": "Python 3",
   "language": "python",
   "name": "python3"
  },
  "language_info": {
   "codemirror_mode": {
    "name": "ipython",
    "version": 2
   },
   "file_extension": ".py",
   "mimetype": "text/x-python",
   "name": "python",
   "nbconvert_exporter": "python",
   "pygments_lexer": "ipython2",
   "version": "2.7.6"
  }
 },
 "nbformat": 4,
 "nbformat_minor": 0
}
